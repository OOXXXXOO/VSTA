{
 "cells": [
  {
   "cell_type": "markdown",
   "metadata": {},
   "source": [
    "# LSTM  Pytorch  Basic\n"
   ]
  },
  {
   "cell_type": "markdown",
   "metadata": {},
   "source": [
    "```python\n",
    "class torch.nn.LSTM(*args, **kwargs)\n",
    "```\n",
    "para:\n",
    "\n",
    "* input_size：x的特征维度\n",
    "* hidden_size：隐藏层的特征维度\n",
    "* num_layers：lstm隐层的层数，默认为1\n",
    "* bias：False则bih=0和bhh=0. 默认为True\n",
    "* batch_first：True则输入输出的数据格式为 (batch, seq, feature)\n",
    "* dropout：除最后一层，每一层的输出都进行dropout，默认为: 0\n",
    "* bidirectional：True则为双向lstm默认为False\n",
    "* 输入：input, (h0, c0)\n",
    "* 输出：output, (hn,cn)"
   ]
  },
  {
   "cell_type": "markdown",
   "metadata": {},
   "source": [
    "\n",
    "输入数据格式： \n",
    "\n",
    "input(seq_len, batch, input_size) \n",
    "\n",
    "h0(num_layers * num_directions, batch, hidden_size) \n",
    "\n",
    "c0(num_layers * num_directions, batch, hidden_size)\n",
    "\n",
    "输出数据格式： \n",
    "\n",
    "output(seq_len, batch, hidden_size * num_directions) \n",
    "\n",
    "hn(num_layers * num_directions, batch, hidden_size) \n",
    "\n",
    "cn(num_layers * num_directions, batch, hidden_size)"
   ]
  },
  {
   "cell_type": "code",
   "execution_count": 2,
   "metadata": {},
   "outputs": [],
   "source": [
    "import torch\n",
    "import torch.nn as nn\n",
    "import torch.nn.functional as F\n",
    "import torch.optim as optim\n"
   ]
  },
  {
   "cell_type": "code",
   "execution_count": 11,
   "metadata": {},
   "outputs": [],
   "source": [
    "import sys\n",
    "# sys.path\n",
    "file='/workspace/VSTA/Data/NLP_Demo/sentence.txt' \n",
    "fp=open(file,'r')\n",
    "str=fp.read()\n",
    "# print(fp.read())"
   ]
  },
  {
   "cell_type": "markdown",
   "metadata": {},
   "source": [
    "http://cseweb.ucsd.edu/~yaq007/NASDAQ100_stock_data.html"
   ]
  }
 ],
 "metadata": {
  "kernelspec": {
   "display_name": "Python 3",
   "language": "python",
   "name": "python3"
  },
  "language_info": {
   "codemirror_mode": {
    "name": "ipython",
    "version": 3
   },
   "file_extension": ".py",
   "mimetype": "text/x-python",
   "name": "python",
   "nbconvert_exporter": "python",
   "pygments_lexer": "ipython3",
   "version": "3.6.7"
  }
 },
 "nbformat": 4,
 "nbformat_minor": 2
}
