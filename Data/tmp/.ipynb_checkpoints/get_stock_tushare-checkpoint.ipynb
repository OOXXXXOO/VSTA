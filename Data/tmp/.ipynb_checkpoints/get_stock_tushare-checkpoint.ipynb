{
 "cells": [
  {
   "cell_type": "code",
   "execution_count": null,
   "metadata": {},
   "outputs": [],
   "source": [
    "import pandas as pd\n",
    "\n",
    "import datetime\n",
    "import tushare as ts\n",
    "# import pymysql\n",
    "# import get_date\n",
    "\n",
    "\n",
    "if __name__ == '__main__':\n",
    "\n",
    "    # 设置tushare pro的token并获取连接\n",
    "    token='b490dcba8a78ab9106ccc6ac1544d7160786cb282c8feb92ae3c6039'\n",
    "    ts.set_token(token)\n",
    "    pro = ts.pro_api()\n",
    "    # 设定获取日线行情的初始日期和终止日期，其中终止日期设定为昨天。\n",
    "    start = datetime.datetime.now() - datetime.timedelta(days=365)  # '20100101'\n",
    "    start_dt = start.strftime('%Y%m%d')\n",
    "    # start_dt = '20100101'\n",
    "    time_temp = datetime.datetime.now() - datetime.timedelta(days=1)\n",
    "    end_dt = time_temp.strftime('%Y%m%d')\n",
    "    dc=pro.query('stock_basic', exchange='', list_status='L', fields='ts_code,symbol,name,area,industry,list_date')\n",
    "    print(dc)\n",
    "    \n",
    "    #获取各个行业的股票个数\n",
    "    b = pd.DataFrame(dc['industry'].value_counts())\n",
    "    print('各个行业包含的股票-上市公司个数：\\n',b)\n",
    "    # 获取指定行业的股票代码\n",
    "    stock_pool_df = dc[dc['industry']=='银行']\n",
    "    print(\"指定行业的股票列表为：\\n\",stock_pool_df)\n",
    "    stock_pool_series=stock_pool_df.ts_code\n",
    "    \n",
    "    # 获取指定股票代码的日度数据，格式为【股票代码】stock_pool='000001.SZ,000002.SZ'，可以获取单个或者多个股票行情数据；\n",
    "    stock_pool=str(','.join( str(i) for i in stock_pool_series[0:5]))  #获取前5个；也可以自定义  \n",
    "#     stock_pool='000001.SZ,000002.SZ'\n",
    "    print(\"要获取的股票代码数据为：\\n\",stock_pool)\n",
    "    print(\"获取指定股票的日线行情为：\\n\")\n",
    "    df = pro.daily(ts_code=stock_pool, start_date=start_dt, end_date=end_dt)\n",
    "    print(df)\n",
    "    print('All Finished!')\n"
   ]
  }
 ],
 "metadata": {
  "kernelspec": {
   "display_name": "Python 3",
   "language": "python",
   "name": "python3"
  },
  "language_info": {
   "codemirror_mode": {
    "name": "ipython",
    "version": 3
   },
   "file_extension": ".py",
   "mimetype": "text/x-python",
   "name": "python",
   "nbconvert_exporter": "python",
   "pygments_lexer": "ipython3",
   "version": "3.7.0"
  }
 },
 "nbformat": 4,
 "nbformat_minor": 4
}
